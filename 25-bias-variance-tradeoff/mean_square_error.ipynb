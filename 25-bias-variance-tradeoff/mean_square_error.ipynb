{
 "cells": [
  {
   "cell_type": "code",
   "execution_count": 1,
   "metadata": {},
   "outputs": [],
   "source": [
    "def mean_squared_error(target_train, model_train_predictions):\n",
    "    return ((target_train - model_train_predictions) ** 2).mean()\n",
    "\n",
    "# A few auxiliary methods\n",
    "\"\"\" Calculates model bias\n",
    ":param predicted_values: values predicted by the model\n",
    ":param true_values: true target values for the data\n",
    ":return: integer representing the bias of the model\n",
    "\"\"\"\n",
    "def get_bias(predicted_values, true_values):\n",
    "    return np.round(np.mean((predicted_values - true_values) ** 2), 0)\n",
    "\n",
    "\"\"\" Calculates variance of an array of values\n",
    ":param values: array of values\n",
    ":return: integer representing the variance of the values\n",
    "\"\"\"\n",
    "def get_variance(values):\n",
    "    return np.round(np.var(values), 0)\n",
    "\n",
    "\"\"\"\n",
    "Calculates\n",
    "1. Training set MSE\n",
    "2. Test set MSE\n",
    "3. Bias\n",
    "4. Variance\n",
    ":param target_train: target values of the training set\n",
    ":param target_test: target values of the test set\n",
    ":param model_train_predictions: predictions from running training set through the model\n",
    ":param model_test_predictions: predictions from running test set through the model\n",
    ":return: array with Training set MSE, Test set MSE, Bias and Variance\n",
    "\"\"\"\n",
    "def get_metrics(target_train, target_test, model_train_predictions, model_test_predictions):\n",
    "    training_mse = mean_squared_error(target_train, model_train_predictions)\n",
    "    test_mse = mean_squared_error(target_test, model_test_predictions)\n",
    "    bias = get_bias(model_test_predictions, target_test)\n",
    "    variance = get_variance(model_test_predictions)\n",
    "    return [training_mse, test_mse, bias, variance]"
   ]
  }
 ],
 "metadata": {
  "kernelspec": {
   "display_name": "base",
   "language": "python",
   "name": "python3"
  },
  "language_info": {
   "codemirror_mode": {
    "name": "ipython",
    "version": 3
   },
   "file_extension": ".py",
   "mimetype": "text/x-python",
   "name": "python",
   "nbconvert_exporter": "python",
   "pygments_lexer": "ipython3",
   "version": "3.11.4"
  },
  "orig_nbformat": 4
 },
 "nbformat": 4,
 "nbformat_minor": 2
}
