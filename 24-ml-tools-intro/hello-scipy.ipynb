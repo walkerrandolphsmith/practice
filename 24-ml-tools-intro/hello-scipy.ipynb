{
 "cells": [
  {
   "cell_type": "code",
   "execution_count": 1,
   "metadata": {},
   "outputs": [
    {
     "name": "stdout",
     "output_type": "stream",
     "text": [
      "NumPy array:\n",
      "[[1. 0. 0. 0.]\n",
      " [0. 1. 0. 0.]\n",
      " [0. 0. 1. 0.]\n",
      " [0. 0. 0. 1.]]\n",
      "SciPy sparse CSR matrix:\n",
      "  (0, 0)\t1.0\n",
      "  (1, 1)\t1.0\n",
      "  (2, 2)\t1.0\n",
      "  (3, 3)\t1.0\n",
      "COO representation:\n",
      "  (0, 0)\t1.0\n",
      "  (1, 1)\t1.0\n",
      "  (2, 2)\t1.0\n",
      "  (3, 3)\t1.0\n"
     ]
    }
   ],
   "source": [
    "import numpy as np\n",
    "from scipy import sparse\n",
    "\n",
    "# create an identity matrix of size 4x4\n",
    "identity_matrix = np.eye(4)\n",
    "print(\"NumPy array:\\n{}\".format(identity_matrix))\n",
    "\n",
    "# convert matrix to sparse matrix to save memory\n",
    "sparse_matrix = sparse.csr_matrix(identity_matrix)\n",
    "print(\"SciPy sparse CSR matrix:\\n{}\".format(sparse_matrix))\n",
    "\n",
    "# construct sparse matrix from scratch since often dense representations don't fit in memory\n",
    "vector = np.ones(4)\n",
    "row_indices = np.arange(4)\n",
    "col_indices = np.arange(4)\n",
    "\n",
    "identity_matrix_coo_format = sparse.coo_matrix((vector, (row_indices, col_indices)))\n",
    "print(\"COO representation:\\n{}\".format(identity_matrix_coo_format))\n"
   ]
  }
 ],
 "metadata": {
  "kernelspec": {
   "display_name": "base",
   "language": "python",
   "name": "python3"
  },
  "language_info": {
   "codemirror_mode": {
    "name": "ipython",
    "version": 3
   },
   "file_extension": ".py",
   "mimetype": "text/x-python",
   "name": "python",
   "nbconvert_exporter": "python",
   "pygments_lexer": "ipython3",
   "version": "3.11.4"
  },
  "orig_nbformat": 4
 },
 "nbformat": 4,
 "nbformat_minor": 2
}
